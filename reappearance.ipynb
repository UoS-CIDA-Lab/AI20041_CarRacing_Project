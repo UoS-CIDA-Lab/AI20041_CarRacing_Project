{
 "cells": [
  {
   "cell_type": "code",
   "execution_count": 1,
   "metadata": {},
   "outputs": [
    {
     "name": "stderr",
     "output_type": "stream",
     "text": [
      "/home/hyunwoo/miniconda3/envs/rl_project/lib/python3.10/site-packages/tqdm/auto.py:21: TqdmWarning: IProgress not found. Please update jupyter and ipywidgets. See https://ipywidgets.readthedocs.io/en/stable/user_install.html\n",
      "  from .autonotebook import tqdm as notebook_tqdm\n"
     ]
    }
   ],
   "source": [
    "import gymnasium as gym\n",
    "import torch\n",
    "import cv2\n",
    "import numpy as np\n",
    "import torch\n",
    "from submissions.reappearance import dict_reappearance\n",
    "\n",
    "device = torch.device(\"cuda\" if torch.cuda.is_available() else \"cpu\")"
   ]
  },
  {
   "cell_type": "code",
   "execution_count": 2,
   "metadata": {},
   "outputs": [],
   "source": [
    "def image_preprocessing(img):\n",
    "  img = cv2.resize(img, dsize=(84, 84))\n",
    "  img = cv2.cvtColor(img, cv2.COLOR_RGB2GRAY) / 255.0\n",
    "  return img"
   ]
  },
  {
   "cell_type": "code",
   "execution_count": 3,
   "metadata": {},
   "outputs": [],
   "source": [
    "class CarEnvironment(gym.Wrapper):\n",
    "  def __init__(self, env, skip_frames=2, stack_frames=4, no_operation=5, **kwargs):\n",
    "    super().__init__(env, **kwargs)\n",
    "    self.env = env\n",
    "    self._no_operation = no_operation\n",
    "    self._skip_frames = skip_frames\n",
    "    self._stack_frames = stack_frames\n",
    "\n",
    "  def reset(self):\n",
    "    \n",
    "    _, _ = self.env.reset()\n",
    "    \n",
    "    for i in range(self._no_operation):\n",
    "      observation, reward, terminated, truncated, info = self.env.step(0)\n",
    "\n",
    "    observation = image_preprocessing(observation)\n",
    "    self.stack_state = np.tile(observation, (self._stack_frames, 1, 1))\n",
    "    return self.stack_state, info\n",
    "\n",
    "  def step(self, action):\n",
    "    total_reward = 0\n",
    "    for i in range(self._skip_frames):\n",
    "      observation, reward, terminated, truncated, info = self.env.step(action)\n",
    "      total_reward += reward\n",
    "      if terminated or truncated:\n",
    "        break\n",
    "\n",
    "    observation = image_preprocessing(observation)\n",
    "    self.stack_state = np.concatenate((self.stack_state[1:], observation[np.newaxis]), axis=0)\n",
    "    return self.stack_state, total_reward, terminated, truncated, info"
   ]
  },
  {
   "cell_type": "code",
   "execution_count": 4,
   "metadata": {},
   "outputs": [],
   "source": [
    "import os \n",
    "import pickle\n",
    "\n",
    "directory = \"./maps\"\n",
    "os.makedirs(directory, exist_ok=True)\n",
    "\n",
    "num_reappearances = 5 # 아래에도 쓰이는 지역변수임 \n",
    "\n",
    "map_dirs = []\n",
    "\n",
    "for i in range(num_reappearances):\n",
    "    map_filename = f\"map_{i + 1}\"\n",
    "    map_dir = f\"{directory}/{map_filename}\"\n",
    "    os.makedirs(map_dir, exist_ok=True)\n",
    "    map_dirs.append(map_dir)\n",
    "    filepath = os.path.join(map_dir, map_filename)"
   ]
  },
  {
   "cell_type": "code",
   "execution_count": 5,
   "metadata": {},
   "outputs": [],
   "source": [
    "def animate(imgs, team, map_idx):\n",
    "    import cv2\n",
    "    import os\n",
    "    \n",
    "    store_dir = f\"{map_dirs[map_idx]}/{team}\"\n",
    "    os.makedirs(store_dir, exist_ok=True)\n",
    "    \n",
    "    video_path = os.path.join(store_dir, \"video.webm\")    \n",
    "    \n",
    "    height, width, layers = imgs[0].shape\n",
    "    fourcc = cv2.VideoWriter_fourcc(*'VP90')\n",
    "    video = cv2.VideoWriter(video_path, fourcc, 10, (width, height))\n",
    "\n",
    "    for img in imgs:\n",
    "        img = cv2.cvtColor(img, cv2.COLOR_BGR2RGB)\n",
    "        video.write(img)\n",
    "    video.release()"
   ]
  },
  {
   "cell_type": "code",
   "execution_count": 6,
   "metadata": {},
   "outputs": [
    {
     "data": {
      "image/jpeg": "[encoded data removed]",
      "image/png": "[encoded data removed]",
      "text/plain": [
       "<PIL.Image.Image image mode=RGB size=600x400>"
      ]
     },
     "metadata": {},
     "output_type": "display_data"
    },
    {
     "name": "stdout",
     "output_type": "stream",
     "text": [
      "Coarse-0 | Score: 875.6889679715164\n"
     ]
    },
    {
     "name": "stderr",
     "output_type": "stream",
     "text": [
      "OpenCV: FFMPEG: tag 0x30395056/'VP90' is not supported with codec id 167 and format 'webm / WebM'\n"
     ]
    },
    {
     "name": "stdout",
     "output_type": "stream",
     "text": [
      "Coarse-1 | Score: 890.7639344262157\n"
     ]
    },
    {
     "name": "stderr",
     "output_type": "stream",
     "text": [
      "OpenCV: FFMPEG: tag 0x30395056/'VP90' is not supported with codec id 167 and format 'webm / WebM'\n"
     ]
    }
   ],
   "source": [
    "submission_team = [\"달려라하니\"] # Test하고 싶은 조만 추가할 것. \n",
    "\n",
    "for team in submission_team:\n",
    "    team_submission = dict_reappearance[team]\n",
    "    DQN = team_submission.model\n",
    "    \n",
    "    avg_scores = 0.0\n",
    "    \n",
    "    for map_idx in range(num_reappearances):\n",
    "        \n",
    "        eval_env = gym.make('CarRacing-v2', continuous=False, render_mode='rgb_array', lap_complete_percent=0.60)\n",
    "        eval_env.np_random = np.random.Generator(np.random.PCG64(np.random.SeedSequence(map_idx * 42)))\n",
    "        eval_env.reset()\n",
    "        \n",
    "        n_actions = eval_env.action_space\n",
    "        \n",
    "        agent = DQN(n_actions, **team_submission.hyperparameters)\n",
    "        agent.target_network.load_state_dict(\n",
    "            torch.load(team_submission.model_path, map_location=device))\n",
    "        \n",
    "        frames = []\n",
    "        scores = 0\n",
    "        \n",
    "        eval_env = CarEnvironment(eval_env)\n",
    "        s, _ = eval_env.reset()\n",
    "        \n",
    "        done, ret = False, 0\n",
    "        \n",
    "        from PIL import Image as PILImage\n",
    "        def render2img(_img): return PILImage.fromarray(_img, \"RGB\")\n",
    "        handle = display(None, display_id=True)\n",
    "        while not done:\n",
    "            \n",
    "            s = torch.tensor(s, dtype=torch.float32, device=device).unsqueeze(0)\n",
    "            a = agent.select_action(s, evaluation_phase=True)\n",
    "            discrete_action = a.item() % 5\n",
    "            s_prime, r, terminated, truncated, info = eval_env.step(discrete_action)\n",
    "            if truncated:\n",
    "                eval_env.reset()\n",
    "                \n",
    "                break\n",
    "            s = s_prime\n",
    "            ret += r\n",
    "            done = terminated or truncated\n",
    "            \n",
    "            _render = eval_env.render()\n",
    "            handle.update(render2img(_render))\n",
    "            frames.append(_render)\n",
    "            \n",
    "        avg_scores += ret\n",
    "        print(f\"Coarse-{map_idx} | Score: {ret}\")\n",
    "        animate(imgs = frames, team = team, map_idx = map_idx)  \n",
    "        \n",
    "    print(f\"Team: {team} / Score: {avg_scores / num_reappearances}\")"
   ]
  }
 ],
 "metadata": {
  "kernelspec": {
   "display_name": "rl",
   "language": "python",
   "name": "python3"
  },
  "language_info": {
   "codemirror_mode": {
    "name": "ipython",
    "version": 3
   },
   "file_extension": ".py",
   "mimetype": "text/x-python",
   "name": "python",
   "nbconvert_exporter": "python",
   "pygments_lexer": "ipython3",
   "version": "3.10.15"
  }
 },
 "nbformat": 4,
 "nbformat_minor": 2
}
